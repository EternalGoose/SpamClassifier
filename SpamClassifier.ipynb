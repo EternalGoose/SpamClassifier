{
  "nbformat": 4,
  "nbformat_minor": 0,
  "metadata": {
    "colab": {
      "name": "SpamClassifier.ipynb",
      "provenance": []
    },
    "kernelspec": {
      "name": "python3",
      "display_name": "Python 3"
    },
    "language_info": {
      "name": "python"
    }
  },
  "cells": [
    {
      "cell_type": "code",
      "execution_count": 1,
      "metadata": {
        "id": "XctriwR5w2kB"
      },
      "outputs": [],
      "source": [
        "import numpy as np\n",
        "import matplotlib.pyplot as plt\n",
        "import pandas as pd\n",
        "import re"
      ]
    },
    {
      "cell_type": "code",
      "source": [
        "columns = ['Class', 'Text']\n",
        "data = pd.read_csv('/content/SMSSpamCollection.txt', sep = '\t', header = None)\n",
        "data.columns = columns"
      ],
      "metadata": {
        "id": "Gae2Xb3zxFKT"
      },
      "execution_count": 2,
      "outputs": []
    },
    {
      "cell_type": "code",
      "source": [
        "data"
      ],
      "metadata": {
        "colab": {
          "base_uri": "https://localhost:8080/",
          "height": 424
        },
        "id": "EKWX6bPhx5xk",
        "outputId": "d2ad9b7b-2f63-4871-b05e-9775d00e3e7c"
      },
      "execution_count": 3,
      "outputs": [
        {
          "output_type": "execute_result",
          "data": {
            "text/html": [
              "<div>\n",
              "<style scoped>\n",
              "    .dataframe tbody tr th:only-of-type {\n",
              "        vertical-align: middle;\n",
              "    }\n",
              "\n",
              "    .dataframe tbody tr th {\n",
              "        vertical-align: top;\n",
              "    }\n",
              "\n",
              "    .dataframe thead th {\n",
              "        text-align: right;\n",
              "    }\n",
              "</style>\n",
              "<table border=\"1\" class=\"dataframe\">\n",
              "  <thead>\n",
              "    <tr style=\"text-align: right;\">\n",
              "      <th></th>\n",
              "      <th>Class</th>\n",
              "      <th>Text</th>\n",
              "    </tr>\n",
              "  </thead>\n",
              "  <tbody>\n",
              "    <tr>\n",
              "      <th>0</th>\n",
              "      <td>ham</td>\n",
              "      <td>Go until jurong point, crazy.. Available only ...</td>\n",
              "    </tr>\n",
              "    <tr>\n",
              "      <th>1</th>\n",
              "      <td>ham</td>\n",
              "      <td>Ok lar... Joking wif u oni...</td>\n",
              "    </tr>\n",
              "    <tr>\n",
              "      <th>2</th>\n",
              "      <td>spam</td>\n",
              "      <td>Free entry in 2 a wkly comp to win FA Cup fina...</td>\n",
              "    </tr>\n",
              "    <tr>\n",
              "      <th>3</th>\n",
              "      <td>ham</td>\n",
              "      <td>U dun say so early hor... U c already then say...</td>\n",
              "    </tr>\n",
              "    <tr>\n",
              "      <th>4</th>\n",
              "      <td>ham</td>\n",
              "      <td>Nah I don't think he goes to usf, he lives aro...</td>\n",
              "    </tr>\n",
              "    <tr>\n",
              "      <th>...</th>\n",
              "      <td>...</td>\n",
              "      <td>...</td>\n",
              "    </tr>\n",
              "    <tr>\n",
              "      <th>5567</th>\n",
              "      <td>spam</td>\n",
              "      <td>This is the 2nd time we have tried 2 contact u...</td>\n",
              "    </tr>\n",
              "    <tr>\n",
              "      <th>5568</th>\n",
              "      <td>ham</td>\n",
              "      <td>Will ü b going to esplanade fr home?</td>\n",
              "    </tr>\n",
              "    <tr>\n",
              "      <th>5569</th>\n",
              "      <td>ham</td>\n",
              "      <td>Pity, * was in mood for that. So...any other s...</td>\n",
              "    </tr>\n",
              "    <tr>\n",
              "      <th>5570</th>\n",
              "      <td>ham</td>\n",
              "      <td>The guy did some bitching but I acted like i'd...</td>\n",
              "    </tr>\n",
              "    <tr>\n",
              "      <th>5571</th>\n",
              "      <td>ham</td>\n",
              "      <td>Rofl. Its true to its name</td>\n",
              "    </tr>\n",
              "  </tbody>\n",
              "</table>\n",
              "<p>5572 rows × 2 columns</p>\n",
              "</div>"
            ],
            "text/plain": [
              "     Class                                               Text\n",
              "0      ham  Go until jurong point, crazy.. Available only ...\n",
              "1      ham                      Ok lar... Joking wif u oni...\n",
              "2     spam  Free entry in 2 a wkly comp to win FA Cup fina...\n",
              "3      ham  U dun say so early hor... U c already then say...\n",
              "4      ham  Nah I don't think he goes to usf, he lives aro...\n",
              "...    ...                                                ...\n",
              "5567  spam  This is the 2nd time we have tried 2 contact u...\n",
              "5568   ham               Will ü b going to esplanade fr home?\n",
              "5569   ham  Pity, * was in mood for that. So...any other s...\n",
              "5570   ham  The guy did some bitching but I acted like i'd...\n",
              "5571   ham                         Rofl. Its true to its name\n",
              "\n",
              "[5572 rows x 2 columns]"
            ]
          },
          "metadata": {},
          "execution_count": 3
        }
      ]
    },
    {
      "cell_type": "markdown",
      "source": [
        "# Смотрим на распределение классов, видим что сообщений, отмеченных как спам, намного меньше чем хороших"
      ],
      "metadata": {
        "id": "rm0gL5TC_s0k"
      }
    },
    {
      "cell_type": "code",
      "source": [
        "data = data.replace(('ham', 'spam'), (0, 1))\n",
        "plt.figure(figsize=(8, 8))\n",
        "plt.pie(data.iloc[:, 0].value_counts(), labels = (0, 1))\n",
        "plt.legend()\n",
        "plt.title('Class distribution')\n",
        "None"
      ],
      "metadata": {
        "colab": {
          "base_uri": "https://localhost:8080/",
          "height": 482
        },
        "id": "ovstE1fex7Qd",
        "outputId": "ba7de0b2-e21a-4246-ba91-3e50b38d2a9a"
      },
      "execution_count": 4,
      "outputs": [
        {
          "output_type": "display_data",
          "data": {
            "image/png": "[encoded data removed]",
            "text/plain": [
              "<Figure size 576x576 with 1 Axes>"
            ]
          },
          "metadata": {}
        }
      ]
    },
    {
      "cell_type": "markdown",
      "source": [
        "# Также полезно посмотреть, нет ли в датасете пропусков данных"
      ],
      "metadata": {
        "id": "Z9Il0SOkADHZ"
      }
    },
    {
      "cell_type": "code",
      "source": [
        "data.info()"
      ],
      "metadata": {
        "colab": {
          "base_uri": "https://localhost:8080/"
        },
        "id": "NjP3W4Jf1jAF",
        "outputId": "658ffa4b-f6e9-4d39-b6ff-f7f367c6bd23"
      },
      "execution_count": 5,
      "outputs": [
        {
          "output_type": "stream",
          "name": "stdout",
          "text": [
            "<class 'pandas.core.frame.DataFrame'>\n",
            "RangeIndex: 5572 entries, 0 to 5571\n",
            "Data columns (total 2 columns):\n",
            " #   Column  Non-Null Count  Dtype \n",
            "---  ------  --------------  ----- \n",
            " 0   Class   5572 non-null   int64 \n",
            " 1   Text    5572 non-null   object\n",
            "dtypes: int64(1), object(1)\n",
            "memory usage: 87.2+ KB\n"
          ]
        }
      ]
    },
    {
      "cell_type": "markdown",
      "source": [
        "# Так как наивный Байес не умеет обрабатывать текст, сгенерируем пару фичей: посчитаем длину каждого сообщения и проверим их на наличие некоторых паттернов"
      ],
      "metadata": {
        "id": "D1DpyPD3AKmn"
      }
    },
    {
      "cell_type": "code",
      "source": [
        "data['length'] = None\n",
        "data['Is_trash'] = None\n",
        "for i in range(len(data['length'])):\n",
        "  data.iloc[i, 2] = len(data.iloc[i, 1])\n",
        "  if bool(re.search(('//'), data.iloc[i, 1])) or bool(re.search(('/'), data.iloc[i, 1])) or bool(re.search(('^\\d+'), data.iloc[i, 1])) or bool(re.search(('£'), data.iloc[i, 1])) or bool(re.search(('free'), data.iloc[i, 1])) or bool(re.search(('FREE'), data.iloc[i, 1])):\n",
        "    data.iloc[i, 3] = 1\n",
        "  else:\n",
        "    data.iloc[i, 3] = 0"
      ],
      "metadata": {
        "id": "C-z1m5Yy6LcP"
      },
      "execution_count": 7,
      "outputs": []
    },
    {
      "cell_type": "code",
      "source": [
        "from sklearn.naive_bayes import GaussianNB\n",
        "from sklearn.model_selection import train_test_split"
      ],
      "metadata": {
        "id": "VHagb9In2Hxm"
      },
      "execution_count": 8,
      "outputs": []
    },
    {
      "cell_type": "code",
      "source": [
        "cat_col = pd.get_dummies(data['Is_trash'])"
      ],
      "metadata": {
        "id": "_0sCSHjz9nhN"
      },
      "execution_count": 9,
      "outputs": []
    },
    {
      "cell_type": "code",
      "source": [
        "target = data['Class']\n",
        "features = np.concatenate((data.drop(columns = ['Class', 'Text', 'Is_trash']), cat_col), axis = 1)"
      ],
      "metadata": {
        "id": "Sumtzgk4-H2D"
      },
      "execution_count": 10,
      "outputs": []
    },
    {
      "cell_type": "code",
      "source": [
        "X_train, X_test, y_train, y_test = train_test_split(features, target, test_size = 0.3)\n",
        "\n",
        "plt.figure(figsize=(8, 8))\n",
        "plt.subplot(1, 2, 1)\n",
        "plt.pie(y_train.value_counts(), labels = (0, 1))\n",
        "plt.legend()\n",
        "plt.title('Train dataset')\n",
        "plt.subplot(1, 2, 2)\n",
        "plt.pie(y_test.value_counts(), labels = (0, 1))\n",
        "plt.legend()\n",
        "plt.title('Test dataset')\n",
        "None"
      ],
      "metadata": {
        "colab": {
          "base_uri": "https://localhost:8080/",
          "height": 250
        },
        "id": "uG-Gt_zy2i92",
        "outputId": "5874d2b6-a6cb-4d4f-fb89-6be8849657a7"
      },
      "execution_count": 11,
      "outputs": [
        {
          "output_type": "display_data",
          "data": {
            "image/png": "[encoded data removed]",
            "text/plain": [
              "<Figure size 576x576 with 2 Axes>"
            ]
          },
          "metadata": {}
        }
      ]
    },
    {
      "cell_type": "code",
      "source": [
        "model = GaussianNB()\n",
        "model.fit(X_train, y_train)\n",
        "preds = model.predict(X_test)"
      ],
      "metadata": {
        "id": "KA4d3n8J3cXc"
      },
      "execution_count": 12,
      "outputs": []
    },
    {
      "cell_type": "code",
      "source": [
        "from sklearn.metrics import classification_report"
      ],
      "metadata": {
        "id": "jakGD3Lk_Lqo"
      },
      "execution_count": 13,
      "outputs": []
    },
    {
      "cell_type": "markdown",
      "source": [
        "# Благодаря выделению удачных паттернов в сообщениях, удалось достичь приемлемого качества:"
      ],
      "metadata": {
        "id": "XswRvCjFBa_j"
      }
    },
    {
      "cell_type": "code",
      "source": [
        "from sklearn.metrics import classification_report\n",
        "\n",
        "print(\"Тестовая выборка\")\n",
        "print(classification_report(y_test, preds))"
      ],
      "metadata": {
        "colab": {
          "base_uri": "https://localhost:8080/"
        },
        "id": "8NH1UVNg4O41",
        "outputId": "9619977a-b3f4-487f-e2b6-557683c553f7"
      },
      "execution_count": 16,
      "outputs": [
        {
          "output_type": "stream",
          "name": "stdout",
          "text": [
            "Тестовая выборка\n",
            "              precision    recall  f1-score   support\n",
            "\n",
            "           0       0.95      0.98      0.96      1443\n",
            "           1       0.83      0.69      0.75       229\n",
            "\n",
            "    accuracy                           0.94      1672\n",
            "   macro avg       0.89      0.83      0.86      1672\n",
            "weighted avg       0.93      0.94      0.93      1672\n",
            "\n"
          ]
        }
      ]
    }
  ]
}